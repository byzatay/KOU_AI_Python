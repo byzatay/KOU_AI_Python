{
 "cells": [
  {
   "cell_type": "raw",
   "id": "fcd08bff",
   "metadata": {},
   "source": [
    ".txt dosyasındaki verilerin içinden sayıları ve özel karakterleri silip .txt dosyasının temiz halini tekrardan yazdıran kod "
   ]
  },
  {
   "cell_type": "code",
   "execution_count": null,
   "id": "f6d464d5",
   "metadata": {
    "scrolled": false
   },
   "outputs": [],
   "source": [
    "dosya=open(\"odev.txt\",\"r\")\n",
    "temiz_dosya=dosya.read()\n",
    "\n",
    "for i in temiz_dosya:\n",
    "    if (i.isalpha()==True):\n",
    "        pass\n",
    "    else:\n",
    "        temiz_dosya=temiz_dosya.replace(i,'')\n",
    "        \n",
    "print(temiz_dosya)\n",
    "\n",
    "dosya.close()"
   ]
  }
 ],
 "metadata": {
  "kernelspec": {
   "display_name": "Python 3",
   "language": "python",
   "name": "python3"
  },
  "language_info": {
   "codemirror_mode": {
    "name": "ipython",
    "version": 3
   },
   "file_extension": ".py",
   "mimetype": "text/x-python",
   "name": "python",
   "nbconvert_exporter": "python",
   "pygments_lexer": "ipython3",
   "version": "3.8.8"
  }
 },
 "nbformat": 4,
 "nbformat_minor": 5
}
