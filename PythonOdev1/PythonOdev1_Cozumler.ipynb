{
  "nbformat": 4,
  "nbformat_minor": 0,
  "metadata": {
    "colab": {
      "name": "PythonOdev1.ipynb",
      "provenance": [],
      "collapsed_sections": []
    },
    "kernelspec": {
      "name": "python3",
      "display_name": "Python 3"
    },
    "language_info": {
      "name": "python"
    }
  },
  "cells": [
    {
      "cell_type": "markdown",
      "metadata": {
        "id": "RcCgu938s4vk"
      },
      "source": [
        "Soru 1:"
      ]
    },
    {
      "cell_type": "code",
      "metadata": {
        "id": "gVAQd9Hog8G3"
      },
      "source": [
        "sayi=int (input(\"Bir sayi giriniz: \"))\n",
        "if sayi%2==0:\n",
        "  print(\"Girilen sayi cifttir.\")\n",
        "else:\n",
        "  print(\"Girilen sayi tektir.\")"
      ],
      "execution_count": null,
      "outputs": []
    },
    {
      "cell_type": "markdown",
      "metadata": {
        "id": "DZytS5cdtB3S"
      },
      "source": [
        "Soru 2:"
      ]
    },
    {
      "cell_type": "code",
      "metadata": {
        "id": "o9D_-hdFtEYi"
      },
      "source": [
        "sayilar=[]\n",
        "for x in range(5):\n",
        "  sayilar.append(int (input(\"{}. sayiyi giriniz: \".format(x+1))))\n",
        "#print(sayilar)\n",
        "\n",
        "for y in sayilar:\n",
        "  if y>1:\n",
        "    for i in range(2,y):\n",
        "      if (y%i==0):\n",
        "        print(\"Girilen {} sayisi asal degildir.\".format(y))\n",
        "        break\n",
        "    else:\n",
        "      print(\"Girilen {} sayisi asaldir.\".format(y))\n",
        "  elif y==1:\n",
        "    print(\"Girilen {} sayisi asal degildir.\".format(y))\n"
      ],
      "execution_count": null,
      "outputs": []
    },
    {
      "cell_type": "markdown",
      "metadata": {
        "id": "A_NFZPRjkbAV"
      },
      "source": [
        "Soru 3:"
      ]
    },
    {
      "cell_type": "code",
      "metadata": {
        "id": "N_UFQcxYkTem"
      },
      "source": [
        "def TemizVeri():\n",
        "  ilk_string =\"Ah5me4t\"\n",
        "  ikinci_string = \"M9eHm4eT\"\n",
        "  ucuncu_string =\"Ha3K5a1n\"\n",
        "\n",
        "  for a in ilk_string:\n",
        "    for b in range(0,10):\n",
        "      if (str(b)==a):\n",
        "        ilk_string=ilk_string.replace(str(b),'')\n",
        "        ilk_string=ilk_string.capitalize()\n",
        "  #print(ilk_string)\n",
        "\n",
        "  for c in ikinci_string:\n",
        "    for d in range(0,10):\n",
        "      if (str(d)==c):\n",
        "        ikinci_string=ikinci_string.replace(str(d),'')\n",
        "        ikinci_string=ikinci_string.capitalize()\n",
        "  #print(ikinci_string)\n",
        "\n",
        "  for e in ucuncu_string:\n",
        "    for f in range(0,10):\n",
        "      if (str(f)==e):\n",
        "        ucuncu_string=ucuncu_string.replace(str(f),'')\n",
        "        ucuncu_string=ucuncu_string.capitalize()\n",
        "  #print(ucuncu_string)\n",
        "\n",
        "  liste=[ilk_string,ikinci_string,ucuncu_string]\n",
        "\n",
        "  birlesmis_deger=\"\"\n",
        "  birlesmis_deger=\"-\".join(liste)\n",
        "  return birlesmis_deger\n",
        "\n",
        "TemizVeri()"
      ],
      "execution_count": null,
      "outputs": []
    }
  ]
}